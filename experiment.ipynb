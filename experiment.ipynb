{
 "cells": [
  {
   "cell_type": "code",
   "execution_count": 1,
   "metadata": {},
   "outputs": [],
   "source": [
    "# Define the experiment data\n",
    "experiment_data = {\n",
    "    \"experiment_configured\": {\n",
    "        'experiment': '03113f5b-f19a-484b-a799-c3f5a0d432a5', \n",
    "        'researcher': 'd.landau@uu.nl', \n",
    "        'sensors': [\n",
    "            'b007a37d-9626-4fb0-b970-8b3ac7d4ba5b', \n",
    "            '3613db1c-e578-49b4-9f29-343008f1ec67'\n",
    "        ], \n",
    "        'temperature_range': {\n",
    "            'upper_threshold': 26.5, \n",
    "            'lower_threshold': 25.5\n",
    "        }\n",
    "    },\n",
    "    \"sensor_temperature_measured\": [\n",
    "        {\n",
    "            'experiment': '03113f5b-f19a-484b-a799-c3f5a0d432a5', \n",
    "            'sensor': 'b007a37d-9626-4fb0-b970-8b3ac7d4ba5b', \n",
    "            'measurement_id': 'f6e1142f-b510-40e9-8851-ea750e8e944b', \n",
    "            'timestamp': 1728586719.9010828, \n",
    "            'temperature': 25.46674919128418, \n",
    "            'measurement_hash': 'xv33foNXWJ351Wpr.MhFJhljsM9uCv+pW4mzTuggrxYzPP1TWLHUcOwLHiZwTsDTovZ+2YiRyjB48hBDTO+/WDT3mFlHEUuWHzLMUaJpXfo56ckBPcUn/36hVreVS98o8fvcTWNQKLea2J2K28yR/teFJiE7tBklYU5+SD2PcisDEXeqwnZwVuUGh/UAC1ItQm07USDi5YARZNqgcPHpWjmzjFeTFE7g/1fwWUC99kADVRa/rXy6uhnHl8GTkqN5cchCmZZ9e0qpTrVXKKaX0zy9XimyoRZEoNTWzlyelvhxK+g/HyKXdHJd0'\n",
    "        },\n",
    "        {\n",
    "            'experiment': '03113f5b-f19a-484b-a799-c3f5a0d432a5', \n",
    "            'sensor': '3613db1c-e578-49b4-9f29-343008f1ec67', \n",
    "            'measurement_id': 'f6e1142f-b510-40e9-8851-ea750e8e944b', \n",
    "            'timestamp': 1728586719.9010828, \n",
    "            'temperature': 24.65305519104004, \n",
    "            'measurement_hash': 'xv33foNXWJ351Wpr.MhFJhljsM9uCv+pW4mzTuggrxYzPP1TWLHUcOwLHiZwTsDTovZ+2YiRyjB48hBDTO+/WDT3mFlHEUuWHzLMUaJpXfo56ckBPcUn/36hVreVS98o8fvcTWNQKLea2J2K28yR/teFJiE7tBklYU5+SD2PcisDEXeqwnZwVuUGh/UAC1ItQm07USDi5YARZNqgcPHpWjmzjFeTFE7g/1fwWUC99kADVRa/rXy6uhnHl8GTkqN5cchCmZZ9e0qpTrVXKKaX0zy9XimyoRZEoNTWzlyelvhxK+g/HyKXdHJd0'\n",
    "        }\n",
    "    ],\n",
    "    \"experiment_terminated\": {\n",
    "        'experiment': '03113f5b-f19a-484b-a799-c3f5a0d432a5', \n",
    "        'timestamp': 1728586723.3454952\n",
    "    }\n",
    "}\n"
   ]
  },
  {
   "cell_type": "code",
   "execution_count": 22,
   "metadata": {},
   "outputs": [
    {
     "name": "stdout",
     "output_type": "stream",
     "text": [
      "[{'experiment': '03113f5b-f19a-484b-a799-c3f5a0d432a5', 'sensor': 'b007a37d-9626-4fb0-b970-8b3ac7d4ba5b', 'measurement_id': 'f6e1142f-b510-40e9-8851-ea750e8e944b', 'timestamp': 1728586719.9010828, 'temperature': 25.46674919128418, 'measurement_hash': 'xv33foNXWJ351Wpr.MhFJhljsM9uCv+pW4mzTuggrxYzPP1TWLHUcOwLHiZwTsDTovZ+2YiRyjB48hBDTO+/WDT3mFlHEUuWHzLMUaJpXfo56ckBPcUn/36hVreVS98o8fvcTWNQKLea2J2K28yR/teFJiE7tBklYU5+SD2PcisDEXeqwnZwVuUGh/UAC1ItQm07USDi5YARZNqgcPHpWjmzjFeTFE7g/1fwWUC99kADVRa/rXy6uhnHl8GTkqN5cchCmZZ9e0qpTrVXKKaX0zy9XimyoRZEoNTWzlyelvhxK+g/HyKXdHJd0'}, {'experiment': '03113f5b-f19a-484b-a799-c3f5a0d432a5', 'sensor': '3613db1c-e578-49b4-9f29-343008f1ec67', 'measurement_id': 'f6e1142f-b510-40e9-8851-ea750e8e944b', 'timestamp': 1728586719.9010828, 'temperature': 24.65305519104004, 'measurement_hash': 'xv33foNXWJ351Wpr.MhFJhljsM9uCv+pW4mzTuggrxYzPP1TWLHUcOwLHiZwTsDTovZ+2YiRyjB48hBDTO+/WDT3mFlHEUuWHzLMUaJpXfo56ckBPcUn/36hVreVS98o8fvcTWNQKLea2J2K28yR/teFJiE7tBklYU5+SD2PcisDEXeqwnZwVuUGh/UAC1ItQm07USDi5YARZNqgcPHpWjmzjFeTFE7g/1fwWUC99kADVRa/rXy6uhnHl8GTkqN5cchCmZZ9e0qpTrVXKKaX0zy9XimyoRZEoNTWzlyelvhxK+g/HyKXdHJd0'}]\n"
     ]
    }
   ],
   "source": [
    "for stage, data in experiment_data.items():\n",
    "    if stage == 'experiment_configured':\n",
    "        pass\n",
    "\n",
    "        # measurement_configured = Measurements(\n",
    "        # exp_id=data['experiment'],\n",
    "        # measurement_id=None,\n",
    "        # sensor=None,\n",
    "        # timestamp=None,\n",
    "        # temperature=None,\n",
    "        # measurement_hash=None,\n",
    "        # lower_threshold=data['temperature_range']['lower_threshold'],\n",
    "        # upper_threshold=data['temperature_range']['lower_threshold'])\n",
    "    \n",
    "    if stage == 'sensor_temperature_measured':\n",
    "\n",
    "        # measurement_configured = Measurements(\n",
    "        # exp_id=data['experiment'],\n",
    "        # measurement_id=None,\n",
    "        # sensor=data['sensor'],\n",
    "        # timestamp=data['timestamp'],\n",
    "        # temperature=data['temperature'],\n",
    "        # measurement_hash=data['measurement_hash'],\n",
    "        # lower_threshold=data['temperature_range']['lower_threshold'],\n",
    "        # upper_threshold=data['temperature_range']['lower_threshold'])\n",
    "\n",
    "\n",
    "        print(data)\n"
   ]
  }
 ],
 "metadata": {
  "kernelspec": {
   "display_name": "cec",
   "language": "python",
   "name": "python3"
  },
  "language_info": {
   "codemirror_mode": {
    "name": "ipython",
    "version": 3
   },
   "file_extension": ".py",
   "mimetype": "text/x-python",
   "name": "python",
   "nbconvert_exporter": "python",
   "pygments_lexer": "ipython3",
   "version": "3.9.20"
  }
 },
 "nbformat": 4,
 "nbformat_minor": 2
}
